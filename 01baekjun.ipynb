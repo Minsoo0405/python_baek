{
 "cells": [
  {
   "attachments": {},
   "cell_type": "markdown",
   "metadata": {},
   "source": [
    "# [2557](https://www.acmicpc.net/problem/2557)\n",
    "![문제](./capture/2557.png)"
   ]
  },
  {
   "cell_type": "code",
   "execution_count": 76,
   "metadata": {},
   "outputs": [
    {
     "name": "stdout",
     "output_type": "stream",
     "text": [
      "Hello World!\n"
     ]
    }
   ],
   "source": [
    "print(\"Hello World!\")"
   ]
  },
  {
   "attachments": {},
   "cell_type": "markdown",
   "metadata": {},
   "source": [
    "# [1000](https://www.acmicpc.net/problem/1000)\n",
    "![문제](./capture/1000.png)"
   ]
  },
  {
   "cell_type": "code",
   "execution_count": 87,
   "metadata": {},
   "outputs": [
    {
     "name": "stdout",
     "output_type": "stream",
     "text": [
      "3\n"
     ]
    }
   ],
   "source": [
    "A, B = input().split()      # 예제 입력값을 input()에 넣으면 unpacking을 통해 A와 B값이 정해짐.\n",
    "\n",
    "print(int(A) + int(B))"
   ]
  },
  {
   "attachments": {},
   "cell_type": "markdown",
   "metadata": {},
   "source": [
    "# [1001](https://www.acmicpc.net/problem/1001)\n",
    "![문제](./capture/1001.png)"
   ]
  },
  {
   "cell_type": "code",
   "execution_count": 89,
   "metadata": {},
   "outputs": [
    {
     "name": "stdout",
     "output_type": "stream",
     "text": [
      "1\n"
     ]
    }
   ],
   "source": [
    "A, B = input().split()\n",
    "\n",
    "print(int(A) - int(B))"
   ]
  },
  {
   "attachments": {},
   "cell_type": "markdown",
   "metadata": {},
   "source": [
    "# [10998](https://www.acmicpc.net/problem/10998)\n",
    "![문제](./capture/10998.png)"
   ]
  },
  {
   "cell_type": "code",
   "execution_count": 91,
   "metadata": {},
   "outputs": [
    {
     "name": "stdout",
     "output_type": "stream",
     "text": [
      "12\n"
     ]
    }
   ],
   "source": [
    "A, B = input().split()\n",
    "\n",
    "print(int(A) * int(B))"
   ]
  },
  {
   "attachments": {},
   "cell_type": "markdown",
   "metadata": {},
   "source": [
    "# [1008](https://www.acmicpc.net/problem/1008)\n",
    "![문제](./capture/1008.png)"
   ]
  },
  {
   "cell_type": "code",
   "execution_count": 92,
   "metadata": {},
   "outputs": [
    {
     "name": "stdout",
     "output_type": "stream",
     "text": [
      "0.3333333333333333\n"
     ]
    }
   ],
   "source": [
    "A, B = input().split()\n",
    "\n",
    "print(int(A) / int(B))"
   ]
  },
  {
   "attachments": {},
   "cell_type": "markdown",
   "metadata": {},
   "source": [
    "# [10869](https://www.acmicpc.net/problem/10869)\n",
    "![문제](./capture/10869.png)"
   ]
  },
  {
   "cell_type": "code",
   "execution_count": 3,
   "metadata": {},
   "outputs": [
    {
     "name": "stdout",
     "output_type": "stream",
     "text": [
      "10\n",
      "4\n",
      "21\n",
      "2\n",
      "1\n"
     ]
    }
   ],
   "source": [
    "a, b = map(int,input().split())\n",
    "print(a + b)\n",
    "print(a - b)\n",
    "print(a * b)\n",
    "print(a // b)\n",
    "print(a % b)"
   ]
  },
  {
   "attachments": {},
   "cell_type": "markdown",
   "metadata": {},
   "source": [
    "# [10926](https://www.acmicpc.net/problem/10926)\n",
    "![문제](./capture/10926.png)"
   ]
  },
  {
   "cell_type": "code",
   "execution_count": 2,
   "metadata": {},
   "outputs": [
    {
     "name": "stdout",
     "output_type": "stream",
     "text": [
      "baekjoon??!\n"
     ]
    }
   ],
   "source": [
    "id = str(input())\n",
    "print(f'{id}??!')"
   ]
  },
  {
   "attachments": {},
   "cell_type": "markdown",
   "metadata": {},
   "source": [
    "# [18108](https://www.acmicpc.net/problem/18108)\n",
    "![문제](./capture/18108.png)"
   ]
  },
  {
   "cell_type": "code",
   "execution_count": 4,
   "metadata": {},
   "outputs": [
    {
     "name": "stdout",
     "output_type": "stream",
     "text": [
      "1998\n"
     ]
    }
   ],
   "source": [
    "y = int(input()) - 543\n",
    "print(y)"
   ]
  },
  {
   "attachments": {},
   "cell_type": "markdown",
   "metadata": {},
   "source": [
    "# [3003](https://www.acmicpc.net/problem/3003)\n",
    "![문제](./capture/3003.png)"
   ]
  },
  {
   "cell_type": "code",
   "execution_count": 7,
   "metadata": {},
   "outputs": [
    {
     "name": "stdout",
     "output_type": "stream",
     "text": [
      "1 0 0 0 0 1 "
     ]
    }
   ],
   "source": [
    "# list, for문 적용\n",
    "piece_white = list(map(int, input().split()))\n",
    "piece_total = [1, 1, 2, 2, 2, 8]\n",
    "for _ in range(6):\n",
    "    print(piece_total[_] - piece_white[_], end=\" \")"
   ]
  },
  {
   "cell_type": "code",
   "execution_count": 11,
   "metadata": {},
   "outputs": [
    {
     "name": "stdout",
     "output_type": "stream",
     "text": [
      "-1 0 0 1 0 7\n"
     ]
    }
   ],
   "source": [
    "# list 적용\n",
    "chess = [1, 1, 2, 2, 2, 8]\n",
    "mine1 = list(map(int, input('').split()))\n",
    "print(1 - mine1[0], 1 - mine1[1], 2 - mine1[2], 2 - mine1[3], 2 - mine1[4], 8 - mine1[5]) "
   ]
  },
  {
   "cell_type": "code",
   "execution_count": 12,
   "metadata": {},
   "outputs": [
    {
     "name": "stdout",
     "output_type": "stream",
     "text": [
      "1 0 0 0 0 1\n"
     ]
    }
   ],
   "source": [
    "# unpacking 활용\n",
    "king, queen, rook, bishop, knight, pawn = map(int, input('').split())\n",
    "print(1 - king, 1 - queen, 2 - rook, 2 - bishop, 2 - knight, 8 - pawn)"
   ]
  },
  {
   "attachments": {},
   "cell_type": "markdown",
   "metadata": {},
   "source": [
    "# [10430](https://www.acmicpc.net/problem/10430)\n",
    "![문제](./capture/10430.png)"
   ]
  },
  {
   "cell_type": "code",
   "execution_count": 32,
   "metadata": {},
   "outputs": [
    {
     "name": "stdout",
     "output_type": "stream",
     "text": [
      "1\n",
      "1\n",
      "0\n",
      "0\n"
     ]
    }
   ],
   "source": [
    "A, B, C = map(int,input().split())\n",
    "print((A + B) % C)\n",
    "print(((A % C) + (B % C)) % C)\n",
    "print((A * B) % C)\n",
    "print(((A % C) * (B % C)) % C)"
   ]
  },
  {
   "cell_type": "code",
   "execution_count": 24,
   "metadata": {},
   "outputs": [
    {
     "data": {
      "text/plain": [
       "2"
      ]
     },
     "execution_count": 24,
     "metadata": {},
     "output_type": "execute_result"
    }
   ],
   "source": [
    "(1 % 3) * (2 % 3) % 3"
   ]
  },
  {
   "attachments": {},
   "cell_type": "markdown",
   "metadata": {},
   "source": [
    "# [2588](https://www.acmicpc.net/problem/2588)\n",
    "![문제](./capture/2588.png)"
   ]
  },
  {
   "cell_type": "code",
   "execution_count": 21,
   "metadata": {},
   "outputs": [
    {
     "name": "stdout",
     "output_type": "stream",
     "text": [
      "2360\n",
      "3776\n",
      "1416\n",
      "181720\n"
     ]
    }
   ],
   "source": [
    "# index 적용\n",
    "A = int(input())\n",
    "B = input()\n",
    "AB2 = A * int(B[2])\n",
    "AB1 = A * int(B[1])\n",
    "\n",
    "AB0 = A * int(B[0])\n",
    "AB = A * int(B)\n",
    "\n",
    "print(AB2)\n",
    "print(AB1)\n",
    "print(AB0)\n",
    "print(AB)\n",
    "\n"
   ]
  },
  {
   "cell_type": "code",
   "execution_count": 13,
   "metadata": {},
   "outputs": [
    {
     "name": "stdout",
     "output_type": "stream",
     "text": [
      "2360\n",
      "3776\n",
      "1416\n",
      "181720\n"
     ]
    }
   ],
   "source": [
    "# 자리수를 구해서 연산\n",
    "A = int(input(''))\n",
    "B = int(input(''))\n",
    "first = B % 1000 // 100   # 나머지 : 세자리 전체 나옴 --> 100으로 나눈 몫 : 첫째 자리\n",
    "second = B % 100 // 10  # 나머지 : 두자리 나옴 --> 10으로 나눈 몫 : 둘째 자리\n",
    "third = B % 10\n",
    "print(A * third, A * second, A * first, A * B, sep='\\n')  # 곱셈하는 형식대로 코드 진행"
   ]
  },
  {
   "attachments": {},
   "cell_type": "markdown",
   "metadata": {},
   "source": [
    "# [10171](https://www.acmicpc.net/problem/10171)\n",
    "![문제](./capture/10171.png)"
   ]
  },
  {
   "cell_type": "code",
   "execution_count": 36,
   "metadata": {},
   "outputs": [
    {
     "name": "stdout",
     "output_type": "stream",
     "text": [
      "\\    /\\\n",
      " )  ( ')\n",
      "(  /  )\n",
      " \\(__)| \n"
     ]
    }
   ],
   "source": [
    "# \\(역슬래쉬) 활용\n",
    "print(\"\\\\    /\\\\\")\n",
    "print(\" )  ( ')\")\n",
    "print(\"(  /  )\")\n",
    "print(\" \\(__)| \")"
   ]
  },
  {
   "cell_type": "code",
   "execution_count": null,
   "metadata": {},
   "outputs": [],
   "source": [
    "# 띄어쓰기 활용\n",
    "print(\"\\    /\\ \")\n",
    "print(\" )  ( ')\")\n",
    "print(\"(  /  ) \")\n",
    "print(\" \\(__)| \")"
   ]
  },
  {
   "attachments": {},
   "cell_type": "markdown",
   "metadata": {},
   "source": [
    "# [10172](https://www.acmicpc.net/problem/10172)\n",
    "![문제](./capture/10172.png)"
   ]
  },
  {
   "cell_type": "code",
   "execution_count": 62,
   "metadata": {},
   "outputs": [
    {
     "name": "stdout",
     "output_type": "stream",
     "text": [
      "|\\_/|\n",
      "|q p|   /}\n",
      "( 0 )\"\"\"\\ \n",
      "|\"^\"`    |\n",
      "||_/=\\\\__|\n"
     ]
    }
   ],
   "source": [
    "print(\"|\\_/|\")\n",
    "print(\"|q p|   /}\")\n",
    "print('( 0 )\"\\\"\\\"\\ ')\n",
    "print('|\\\"^\\\"`    |')\n",
    "print(\"||_/=\\\\\\__|\")"
   ]
  },
  {
   "attachments": {},
   "cell_type": "markdown",
   "metadata": {},
   "source": [
    "# [25083](https://www.acmicpc.net/problem/25083)\n",
    "![문제](./capture/25083.png)"
   ]
  },
  {
   "cell_type": "code",
   "execution_count": 75,
   "metadata": {},
   "outputs": [
    {
     "name": "stdout",
     "output_type": "stream",
     "text": [
      "         ,r'\"7\n",
      "r`-_   ,'  ,/\n",
      " \\. \". L_r'\n",
      "   `~\\/\n",
      "      |\n",
      "      |\n"
     ]
    }
   ],
   "source": [
    "print(\"         ,r'\\\"7\")\n",
    "print(\"r`-_   ,'  ,/\")\n",
    "print(\" \\. \\\". L_r\\'\")\n",
    "print(\"   `~\\/\")\n",
    "print(\"      |\")\n",
    "print(\"      |\")"
   ]
  }
 ],
 "metadata": {
  "kernelspec": {
   "display_name": "Python 3",
   "language": "python",
   "name": "python3"
  },
  "language_info": {
   "codemirror_mode": {
    "name": "ipython",
    "version": 3
   },
   "file_extension": ".py",
   "mimetype": "text/x-python",
   "name": "python",
   "nbconvert_exporter": "python",
   "pygments_lexer": "ipython3",
   "version": "3.11.1 (main, Dec 23 2022, 09:28:24) [Clang 14.0.0 (clang-1400.0.29.202)]"
  },
  "orig_nbformat": 4,
  "vscode": {
   "interpreter": {
    "hash": "5c7b89af1651d0b8571dde13640ecdccf7d5a6204171d6ab33e7c296e100e08a"
   }
  }
 },
 "nbformat": 4,
 "nbformat_minor": 2
}
