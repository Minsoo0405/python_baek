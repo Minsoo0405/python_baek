{
 "cells": [
  {
   "attachments": {},
   "cell_type": "markdown",
   "metadata": {},
   "source": [
    "# [두 정수 사이의 합](https://school.programmers.co.kr/learn/courses/30/lessons/12912)"
   ]
  },
  {
   "attachments": {},
   "cell_type": "markdown",
   "metadata": {},
   "source": [
    "<img src='./capture/두 정수 사이의 합.png' width=450 length=450>"
   ]
  },
  {
   "cell_type": "code",
   "execution_count": null,
   "metadata": {},
   "outputs": [],
   "source": [
    "def solution(a, b):\n",
    "    answer = 0\n",
    "    if a < b:\n",
    "        for _ in range(a,b+1):\n",
    "            answer += _\n",
    "    else:\n",
    "        for _ in range(a,b-1,-1):\n",
    "            answer += _\n",
    "    return answer"
   ]
  }
 ],
 "metadata": {
  "language_info": {
   "name": "python"
  },
  "orig_nbformat": 4
 },
 "nbformat": 4,
 "nbformat_minor": 2
}
