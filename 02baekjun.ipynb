{
 "cells": [
  {
   "attachments": {},
   "cell_type": "markdown",
   "metadata": {},
   "source": [
    "# [1330](https://www.acmicpc.net/problem/1330)\n",
    "![문제](./capture/1330.png)\n"
   ]
  },
  {
   "cell_type": "code",
   "execution_count": 8,
   "metadata": {},
   "outputs": [
    {
     "name": "stdout",
     "output_type": "stream",
     "text": [
      "==\n"
     ]
    }
   ],
   "source": [
    "A, B = map(int,input().split())\n",
    "if A > B:\n",
    "    print('>')\n",
    "elif A < B:\n",
    "    print('<')\n",
    "else:\n",
    "    print('==')"
   ]
  },
  {
   "attachments": {},
   "cell_type": "markdown",
   "metadata": {},
   "source": [
    "# [9498](https://www.acmicpc.net/problem/9498)\n",
    "![문제](./capture/9498.png)"
   ]
  },
  {
   "cell_type": "code",
   "execution_count": 11,
   "metadata": {},
   "outputs": [
    {
     "name": "stdout",
     "output_type": "stream",
     "text": [
      "B\n"
     ]
    }
   ],
   "source": [
    "point = int(input())\n",
    "if point >= 90:\n",
    "    print('A')\n",
    "elif point >= 80:\n",
    "    print('B')\n",
    "elif point >= 70:\n",
    "    print('C')\n",
    "elif point >= 60:\n",
    "    print('D')\n",
    "else:\n",
    "    print('F')"
   ]
  },
  {
   "attachments": {},
   "cell_type": "markdown",
   "metadata": {},
   "source": [
    "# [2753](https://www.acmicpc.net/problem/2753)\n",
    "![문제](./capture/2753.png)"
   ]
  },
  {
   "cell_type": "code",
   "execution_count": 16,
   "metadata": {},
   "outputs": [
    {
     "name": "stdout",
     "output_type": "stream",
     "text": [
      "1\n"
     ]
    }
   ],
   "source": [
    "year = int(input())\n",
    "if ((year % 4 == 0) and (year % 100 != 0)) or (year % 400 == 0):\n",
    "    print('1')\n",
    "else:\n",
    "    print('0')"
   ]
  },
  {
   "attachments": {},
   "cell_type": "markdown",
   "metadata": {},
   "source": [
    "# [14681](https://www.acmicpc.net/problem/14681)\n",
    "![문제](./capture/14681.png)"
   ]
  },
  {
   "cell_type": "code",
   "execution_count": 19,
   "metadata": {},
   "outputs": [
    {
     "name": "stdout",
     "output_type": "stream",
     "text": [
      "4\n"
     ]
    }
   ],
   "source": [
    "x = int(input())\n",
    "y = int(input())\n",
    "if x > 0 and y > 0:\n",
    "    print('1')\n",
    "elif x < 0 and y > 0:\n",
    "    print('2')\n",
    "elif x < 0 and y  < 0:\n",
    "    print('3')\n",
    "else:\n",
    "    print('4')"
   ]
  },
  {
   "attachments": {},
   "cell_type": "markdown",
   "metadata": {},
   "source": [
    "# [2884](https://www.acmicpc.net/problem/2884)\n",
    "![문제](./capture/2884.png)"
   ]
  },
  {
   "cell_type": "code",
   "execution_count": 8,
   "metadata": {},
   "outputs": [
    {
     "name": "stdout",
     "output_type": "stream",
     "text": [
      "22 55\n"
     ]
    }
   ],
   "source": [
    "H, M = map(int,input().split())\n",
    "if M >= 45:\n",
    "    print(f'{H} {M-45}')\n",
    "else:\n",
    "    if H >= 13 and H <= 23:\n",
    "        print(f'{H-1} {M+15}')\n",
    "    elif H > 0 and H < 13:\n",
    "        print(f'{H-1} {M+15}')\n",
    "    else:\n",
    "        print(f'{23-H} {M+15}')"
   ]
  },
  {
   "attachments": {},
   "cell_type": "markdown",
   "metadata": {},
   "source": [
    "# [2525](https://www.acmicpc.net/problem/2525)\n",
    "![문제](./capture/2525.png)"
   ]
  },
  {
   "cell_type": "code",
   "execution_count": 25,
   "metadata": {},
   "outputs": [
    {
     "name": "stdout",
     "output_type": "stream",
     "text": [
      "0 30\n"
     ]
    }
   ],
   "source": [
    "A, B = map(int, input().split())\n",
    "C = int(input())\n",
    "if (B + C) >= 60:\n",
    "    if A < 23:\n",
    "        print(f'{A+((B+C)//60)} {(B+C)%60}')\n",
    "    else:\n",
    "        print(f'{((B+C)//60)-1} {(B+C)%60}')\n",
    "else:\n",
    "    print(f'{A} {(B+C)}')"
   ]
  },
  {
   "attachments": {},
   "cell_type": "markdown",
   "metadata": {},
   "source": [
    "# [2480](https://www.acmicpc.net/problem/2480)\n",
    "![문제](./capture/2480.png)"
   ]
  },
  {
   "cell_type": "code",
   "execution_count": 3,
   "metadata": {},
   "outputs": [
    {
     "name": "stdout",
     "output_type": "stream",
     "text": [
      "600\n"
     ]
    }
   ],
   "source": [
    "A, B, C = map(int, input().split())\n",
    "if A == B == C:\n",
    "    print(10000 + A * 1000)\n",
    "elif A == B or B == C or C == A:\n",
    "    if A == B:\n",
    "        print(1000 + A * 100)\n",
    "    elif B == C:\n",
    "        print(1000 + B * 100)\n",
    "    else:\n",
    "        print(1000 + C * 100)\n",
    "else:\n",
    "    if A > B and A > C:\n",
    "        print(A * 100)\n",
    "    elif B > A and B > C:\n",
    "        print(B * 100)\n",
    "    else:\n",
    "        print(C * 100)"
   ]
  }
 ],
 "metadata": {
  "kernelspec": {
   "display_name": "Python 3",
   "language": "python",
   "name": "python3"
  },
  "language_info": {
   "codemirror_mode": {
    "name": "ipython",
    "version": 3
   },
   "file_extension": ".py",
   "mimetype": "text/x-python",
   "name": "python",
   "nbconvert_exporter": "python",
   "pygments_lexer": "ipython3",
   "version": "3.11.1"
  },
  "orig_nbformat": 4,
  "vscode": {
   "interpreter": {
    "hash": "5c7b89af1651d0b8571dde13640ecdccf7d5a6204171d6ab33e7c296e100e08a"
   }
  }
 },
 "nbformat": 4,
 "nbformat_minor": 2
}
