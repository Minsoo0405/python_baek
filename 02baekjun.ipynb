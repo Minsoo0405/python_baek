{
 "cells": [
  {
   "attachments": {},
   "cell_type": "markdown",
   "metadata": {},
   "source": [
    "# [1330](https://www.acmicpc.net/problem/1330)\n",
    "![문제](./capture/1330.png)\n"
   ]
  },
  {
   "cell_type": "code",
   "execution_count": 8,
   "metadata": {},
   "outputs": [
    {
     "name": "stdout",
     "output_type": "stream",
     "text": [
      "==\n"
     ]
    }
   ],
   "source": [
    "A, B = map(int,input().split())\n",
    "if A > B:\n",
    "    print('>')\n",
    "elif A < B:\n",
    "    print('<')\n",
    "else:\n",
    "    print('==')"
   ]
  },
  {
   "attachments": {},
   "cell_type": "markdown",
   "metadata": {},
   "source": [
    "# [9498](https://www.acmicpc.net/problem/9498)\n",
    "![문제](./capture/9498.png)"
   ]
  },
  {
   "cell_type": "code",
   "execution_count": 11,
   "metadata": {},
   "outputs": [
    {
     "name": "stdout",
     "output_type": "stream",
     "text": [
      "B\n"
     ]
    }
   ],
   "source": [
    "point = int(input())\n",
    "if point >= 90:\n",
    "    print('A')\n",
    "elif point >= 80:\n",
    "    print('B')\n",
    "elif point >= 70:\n",
    "    print('C')\n",
    "elif point >= 60:\n",
    "    print('D')\n",
    "else:\n",
    "    print('F')"
   ]
  },
  {
   "attachments": {},
   "cell_type": "markdown",
   "metadata": {},
   "source": [
    "# [2753](https://www.acmicpc.net/problem/2753)\n",
    "![문제](./capture/2753.png)"
   ]
  },
  {
   "cell_type": "code",
   "execution_count": 16,
   "metadata": {},
   "outputs": [
    {
     "name": "stdout",
     "output_type": "stream",
     "text": [
      "1\n"
     ]
    }
   ],
   "source": [
    "year = int(input())\n",
    "if ((year % 4 == 0) and (year % 100 != 0)) or (year % 400 == 0):\n",
    "    print('1')\n",
    "else:\n",
    "    print('0')"
   ]
  },
  {
   "attachments": {},
   "cell_type": "markdown",
   "metadata": {},
   "source": [
    "# [14681](https://www.acmicpc.net/problem/14681)\n",
    "![문제](./capture/14681.png)"
   ]
  },
  {
   "cell_type": "code",
   "execution_count": 19,
   "metadata": {},
   "outputs": [
    {
     "name": "stdout",
     "output_type": "stream",
     "text": [
      "4\n"
     ]
    }
   ],
   "source": [
    "x = int(input())\n",
    "y = int(input())\n",
    "if x > 0 and y > 0:\n",
    "    print('1')\n",
    "elif x < 0 and y > 0:\n",
    "    print('2')\n",
    "elif x < 0 and y  < 0:\n",
    "    print('3')\n",
    "else:\n",
    "    print('4')"
   ]
  },
  {
   "attachments": {},
   "cell_type": "markdown",
   "metadata": {},
   "source": [
    "# [2884](https://www.acmicpc.net/problem/2884)\n",
    "![문제](./capture/2884.png)"
   ]
  },
  {
   "cell_type": "code",
   "execution_count": 8,
   "metadata": {},
   "outputs": [
    {
     "name": "stdout",
     "output_type": "stream",
     "text": [
      "22 55\n"
     ]
    }
   ],
   "source": [
    "H, M = map(int,input().split())\n",
    "if M >= 45:\n",
    "    print(f'{H} {M-45}')\n",
    "\n",
    "# M < 45 이면, H에 1을 빼야함.\n",
    "else:\n",
    "    if H >= 13 and H <= 23:\n",
    "        print(f'{H-1} {M+15}')\n",
    "    elif H > 0 and H < 13:\n",
    "        print(f'{H-1} {M+15}')\n",
    "    else:\n",
    "        print(f'{23-H} {M+15}')"
   ]
  },
  {
   "cell_type": "code",
   "execution_count": 11,
   "metadata": {},
   "outputs": [
    {
     "name": "stdout",
     "output_type": "stream",
     "text": [
      "22 55\n"
     ]
    }
   ],
   "source": [
    "H, M = map(int,input().split())\n",
    "if M >= 45:\n",
    "    print(f'{H} {M-45}')\n",
    "\n",
    "else:\n",
    "    if 0 < H  and H <= 23:\n",
    "        print(f'{H-1} {M+15}')\n",
    "    else:\n",
    "        print(f'{23-H} {M+15}')"
   ]
  },
  {
   "cell_type": "code",
   "execution_count": null,
   "metadata": {},
   "outputs": [],
   "source": [
    "H, M = map(int, input('').split())\n",
    "# 0시 45~59분일 경우\n",
    "if (H == 0) & (45<= M <= 59) :\n",
    "  print(H, M - 45)\n",
    "# 0시 0~44분일 경우\n",
    "elif (H == 0) & (M < 45) :\n",
    "  print(24 - 1, 60 - 45 + M)\n",
    "# 1~23시 45~59분일 경우\n",
    "elif 45<= M <= 59 :\n",
    "  print(H, M - 45)\n",
    "# 1~23시 0~44분일 경우\n",
    "elif M < 45 :\n",
    "  print(H - 1, 60 - 45 + M)"
   ]
  },
  {
   "attachments": {},
   "cell_type": "markdown",
   "metadata": {},
   "source": [
    "# [2525](https://www.acmicpc.net/problem/2525)\n",
    "![문제](./capture/2525.png)"
   ]
  },
  {
   "cell_type": "code",
   "execution_count": 3,
   "metadata": {},
   "outputs": [
    {
     "name": "stdout",
     "output_type": "stream",
     "text": [
      "0 13\n"
     ]
    }
   ],
   "source": [
    "A, B = map(int, input().split())\n",
    "C = int(input())\n",
    "\n",
    "if (B + C) >= 60:\n",
    "    if A+((B+C)//60) < 24:                      # (B+C)//60\n",
    "        print(f'{A+((B+C)//60)} {(B+C)%60}')\n",
    "    else:\n",
    "        print(f'{(A+(B+C)//60)-24} {(B+C)%60}') # A+(B+C)//60\n",
    "else:\n",
    "    print(f'{A} {(B+C)}')"
   ]
  },
  {
   "cell_type": "code",
   "execution_count": 2,
   "metadata": {},
   "outputs": [
    {
     "name": "stdout",
     "output_type": "stream",
     "text": [
      "0 13\n"
     ]
    }
   ],
   "source": [
    "hour, minute = map(int, input().split())\n",
    "time = int(input())\n",
    "\n",
    "time_h = time // 60\n",
    "time_m = time % 60\n",
    "\n",
    "hour += time_h\n",
    "minute+= time_m\n",
    "\n",
    "if minute >= 60:\n",
    "    hour += 1\n",
    "    minute -= 60\n",
    "if hour >= 24:\n",
    "    hour -= 24\n",
    "print(hour, minute)"
   ]
  },
  {
   "attachments": {},
   "cell_type": "markdown",
   "metadata": {},
   "source": [
    "# [2480](https://www.acmicpc.net/problem/2480)\n",
    "![문제](./capture/2480.png)"
   ]
  },
  {
   "cell_type": "code",
   "execution_count": 3,
   "metadata": {},
   "outputs": [
    {
     "name": "stdout",
     "output_type": "stream",
     "text": [
      "600\n"
     ]
    }
   ],
   "source": [
    "A, B, C = map(int, input().split())\n",
    "if A == B == C:\n",
    "    print(10000 + A * 1000)\n",
    "elif A == B or B == C or C == A:\n",
    "    if A == B:\n",
    "        print(1000 + A * 100)\n",
    "    elif B == C:\n",
    "        print(1000 + B * 100)\n",
    "    else:\n",
    "        print(1000 + C * 100)\n",
    "else:\n",
    "    if A > B and A > C:\n",
    "        print(A * 100)\n",
    "    elif B > A and B > C:\n",
    "        print(B * 100)\n",
    "    else:\n",
    "        print(C * 100)"
   ]
  },
  {
   "cell_type": "code",
   "execution_count": 18,
   "metadata": {},
   "outputs": [
    {
     "name": "stdout",
     "output_type": "stream",
     "text": [
      "900\n"
     ]
    }
   ],
   "source": [
    "A, B, C = map(int, input().split())\n",
    "if A == B == C:\n",
    "    print(10000 + A * 1000)\n",
    "elif A == B or B == C or C == A:\n",
    "    if A == B:\n",
    "        print(1000 + A * 100)\n",
    "    elif B == C:\n",
    "        print(1000 + B * 100)\n",
    "    else:\n",
    "        print(1000 + C * 100)\n",
    "else:\n",
    "    print(100 * max(A, B, C))"
   ]
  }
 ],
 "metadata": {
  "kernelspec": {
   "display_name": "base",
   "language": "python",
   "name": "python3"
  },
  "language_info": {
   "codemirror_mode": {
    "name": "ipython",
    "version": 3
   },
   "file_extension": ".py",
   "mimetype": "text/x-python",
   "name": "python",
   "nbconvert_exporter": "python",
   "pygments_lexer": "ipython3",
   "version": "3.9.13"
  },
  "orig_nbformat": 4,
  "vscode": {
   "interpreter": {
    "hash": "29022363fef606f9f23df6f4a22f2b4728bceb42fab3e5e3f1a324182233d5f0"
   }
  }
 },
 "nbformat": 4,
 "nbformat_minor": 2
}
