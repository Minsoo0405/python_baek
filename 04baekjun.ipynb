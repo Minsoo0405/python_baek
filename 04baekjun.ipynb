{
 "cells": [
  {
   "attachments": {},
   "cell_type": "markdown",
   "metadata": {},
   "source": [
    "# [10807](https://www.acmicpc.net/problem/10807)"
   ]
  },
  {
   "attachments": {},
   "cell_type": "markdown",
   "metadata": {},
   "source": [
    "<img src='./capture/10807.png' width=600 length=600>"
   ]
  },
  {
   "cell_type": "code",
   "execution_count": 1,
   "metadata": {},
   "outputs": [
    {
     "name": "stdout",
     "output_type": "stream",
     "text": [
      "3\n"
     ]
    }
   ],
   "source": [
    "N = int(input())\n",
    "N_list = list(map(int, input().split()))\n",
    "count_number = int(input())\n",
    "\n",
    "print(N_list.count(count_number))\n"
   ]
  },
  {
   "attachments": {},
   "cell_type": "markdown",
   "metadata": {},
   "source": [
    "# [10871](https://www.acmicpc.net/problem/10871)"
   ]
  },
  {
   "attachments": {},
   "cell_type": "markdown",
   "metadata": {},
   "source": [
    "<img src='./capture/10871.png' width=600 length=600>"
   ]
  },
  {
   "cell_type": "code",
   "execution_count": 1,
   "metadata": {},
   "outputs": [
    {
     "name": "stdout",
     "output_type": "stream",
     "text": [
      "1 4 2 3 "
     ]
    }
   ],
   "source": [
    "n, x = map(int, input().split())\n",
    "n_list = list(map(int, input().split()))\n",
    "\n",
    "for _ in n_list:\n",
    "    if _ < x:\n",
    "        print(_, end=\" \")"
   ]
  },
  {
   "attachments": {},
   "cell_type": "markdown",
   "metadata": {},
   "source": [
    "# [10818](https://www.acmicpc.net/problem/10818)"
   ]
  },
  {
   "attachments": {},
   "cell_type": "markdown",
   "metadata": {},
   "source": [
    "<img src='./capture/10818.png' width=600 length=600>"
   ]
  },
  {
   "cell_type": "code",
   "execution_count": 5,
   "metadata": {},
   "outputs": [
    {
     "name": "stdout",
     "output_type": "stream",
     "text": [
      "7 35\n"
     ]
    }
   ],
   "source": [
    "N = int(input())\n",
    "N_list = list(map(int, input().split()))\n",
    "print(min(N_list), max(N_list))"
   ]
  },
  {
   "attachments": {},
   "cell_type": "markdown",
   "metadata": {},
   "source": [
    "# [2562](https://www.acmicpc.net/problem/2562)"
   ]
  },
  {
   "attachments": {},
   "cell_type": "markdown",
   "metadata": {},
   "source": [
    "<img src='./capture/2562.png' width=600 length=600>"
   ]
  },
  {
   "cell_type": "code",
   "execution_count": 10,
   "metadata": {},
   "outputs": [
    {
     "name": "stdout",
     "output_type": "stream",
     "text": [
      "85\n",
      "7\n"
     ]
    }
   ],
   "source": [
    "numbers = []\n",
    "\n",
    "for _ in range(9):\n",
    "    i = int(input())\n",
    "    numbers.append(i)\n",
    "\n",
    "print(max(numbers))\n",
    "print(numbers.index(max(numbers))+1)"
   ]
  },
  {
   "attachments": {},
   "cell_type": "markdown",
   "metadata": {},
   "source": [
    "# [10810](https://www.acmicpc.net/problem/10810)"
   ]
  },
  {
   "attachments": {},
   "cell_type": "markdown",
   "metadata": {},
   "source": [
    "<img src='./capture/10810.png' width=600 length=600>"
   ]
  },
  {
   "cell_type": "code",
   "execution_count": 1,
   "metadata": {},
   "outputs": [
    {
     "name": "stdout",
     "output_type": "stream",
     "text": [
      "1 2 1 1 0 "
     ]
    }
   ],
   "source": [
    "N, M = map(int, input().split())\n",
    "basket = [0] * (N+1)\n",
    "\n",
    "for _ in range(M):\n",
    "    i, j, k = map(int, input().split())\n",
    "    for n in range(i, j+1):\n",
    "        basket[n] = k \n",
    "\n",
    "for i in range(1, N+1):\n",
    "    print(basket[i], end = ' ')"
   ]
  },
  {
   "attachments": {},
   "cell_type": "markdown",
   "metadata": {},
   "source": [
    "# [10813](https://www.acmicpc.net/problem/10813)"
   ]
  },
  {
   "attachments": {},
   "cell_type": "markdown",
   "metadata": {},
   "source": [
    "<img src='./capture/10813.png' width=600 length=600>"
   ]
  },
  {
   "cell_type": "code",
   "execution_count": 2,
   "metadata": {},
   "outputs": [
    {
     "name": "stdout",
     "output_type": "stream",
     "text": [
      "3 1 4 2 5\n"
     ]
    }
   ],
   "source": [
    "n, m = map(int, input().split())\n",
    "basket = [i for i in range(1, n + 1)]\n",
    "for i in range(m):\n",
    "    a, b = map(int, input().split())\n",
    "    temp = basket[b - 1]\n",
    "    basket[b - 1] = basket[a - 1]\n",
    "    basket[a - 1] = temp\n",
    "print(*basket)"
   ]
  },
  {
   "attachments": {},
   "cell_type": "markdown",
   "metadata": {},
   "source": [
    "# [5597](https://www.acmicpc.net/problem/5597)"
   ]
  },
  {
   "attachments": {},
   "cell_type": "markdown",
   "metadata": {},
   "source": [
    "<img src='./capture/5597(1).png' width=450 length=450>\n",
    "<img src='./capture/5597(2).png' width=450 length=450>\n",
    "<img src='./capture/5597(3).png' width=450 length=450>"
   ]
  },
  {
   "cell_type": "code",
   "execution_count": 5,
   "metadata": {},
   "outputs": [
    {
     "name": "stdout",
     "output_type": "stream",
     "text": [
      "2\n",
      "20\n"
     ]
    }
   ],
   "source": [
    "students = [i for i in range(1,31)]\n",
    "\n",
    "for _ in range(28):\n",
    "    applied = int(input())\n",
    "    students.remove(applied)\n",
    "\n",
    "print(min(students))\n",
    "print(max(students))"
   ]
  },
  {
   "attachments": {},
   "cell_type": "markdown",
   "metadata": {},
   "source": [
    "# [3052](https://www.acmicpc.net/problem/3052)"
   ]
  },
  {
   "attachments": {},
   "cell_type": "markdown",
   "metadata": {},
   "source": [
    "<img src='./capture/3052(1).png' width=450 length=450>\n",
    "<img src='./capture/3052(2).png' width=450 length=450>"
   ]
  },
  {
   "cell_type": "code",
   "execution_count": 22,
   "metadata": {},
   "outputs": [
    {
     "name": "stdout",
     "output_type": "stream",
     "text": [
      "{1, 2, 3, 4, 5, 6, 7, 8, 9, 10}\n"
     ]
    }
   ],
   "source": [
    "rest = []\n",
    "\n",
    "for _ in range(10):\n",
    "    num = int(input())\n",
    "    rest.append(num % 42)\n",
    "\n",
    "rest = set(rest)\n",
    "\n",
    "print(len(rest))"
   ]
  },
  {
   "attachments": {},
   "cell_type": "markdown",
   "metadata": {},
   "source": [
    "# [10811](https://www.acmicpc.net/problem/10811)"
   ]
  },
  {
   "attachments": {},
   "cell_type": "markdown",
   "metadata": {},
   "source": [
    "<img src='./capture/10811.png' width=600 length=600>"
   ]
  },
  {
   "cell_type": "code",
   "execution_count": null,
   "metadata": {},
   "outputs": [],
   "source": [
    "n, m = map(int,input().split())\n",
    "a = []\n",
    "\n",
    "for c in range(1,n+1):\n",
    "    a.append(c)\n",
    "\n",
    "for c in range(m):\n",
    "    i, j = map(int,input().split())\n",
    "    b = []\n",
    "    for c in range(i-1,j):\n",
    "        b.append(a[c])\n",
    "    b.reverse()\n",
    "\n",
    "    d = 0\n",
    "    while d != len(b):\n",
    "        for c in range(i-1,j):\n",
    "            a[c] = b[d]\n",
    "            d = d + 1\n",
    "for c in a:\n",
    "    print(i, end=\" \")"
   ]
  },
  {
   "attachments": {},
   "cell_type": "markdown",
   "metadata": {},
   "source": [
    "# [1546](https://www.acmicpc.net/problem/1546)"
   ]
  },
  {
   "attachments": {},
   "cell_type": "markdown",
   "metadata": {},
   "source": [
    "<img src='./capture/1546(1).png' width=600 length=600>\n",
    "<img src='./capture/1546(2).png' width=600 length=600>"
   ]
  },
  {
   "cell_type": "code",
   "execution_count": 28,
   "metadata": {},
   "outputs": [
    {
     "name": "stdout",
     "output_type": "stream",
     "text": [
      "75.0\n"
     ]
    }
   ],
   "source": [
    "N = int(input())\n",
    "grade = list(map(int, input().split()))\n",
    "sum = 0\n",
    "\n",
    "for _ in range(len(grade)):\n",
    "    sum = sum + grade[_] / max(grade)\n",
    "\n",
    "print(sum / len(grade) * 100)"
   ]
  }
 ],
 "metadata": {
  "kernelspec": {
   "display_name": "tensorflow",
   "language": "python",
   "name": "python3"
  },
  "language_info": {
   "codemirror_mode": {
    "name": "ipython",
    "version": 3
   },
   "file_extension": ".py",
   "mimetype": "text/x-python",
   "name": "python",
   "nbconvert_exporter": "python",
   "pygments_lexer": "ipython3",
   "version": "3.10.9"
  },
  "orig_nbformat": 4,
  "vscode": {
   "interpreter": {
    "hash": "04fd9c361be45f4292b225cf55355a67dfa13b4c14ac86b9ffe9743e2c71714e"
   }
  }
 },
 "nbformat": 4,
 "nbformat_minor": 2
}
